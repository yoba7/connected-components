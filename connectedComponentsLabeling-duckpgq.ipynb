{
 "cells": [
  {
   "cell_type": "code",
   "execution_count": 1,
   "id": "a88935ec-753f-40b0-ab4e-636f82f7da54",
   "metadata": {},
   "outputs": [],
   "source": [
    "from connectedComponentsLabeling import connectedComponentsLabeler as ccl\n",
    "from time import time\n",
    "import pandas as pd\n",
    "import numpy as np\n",
    "import duckdb"
   ]
  },
  {
   "cell_type": "markdown",
   "id": "c49a0824-1619-4c6e-87f4-4bd39dfc677c",
   "metadata": {},
   "source": [
    "# Function to simulate a random graph"
   ]
  },
  {
   "cell_type": "code",
   "execution_count": 2,
   "id": "87f255cc-9c0f-4e9d-9723-fe2da8352bbb",
   "metadata": {},
   "outputs": [],
   "source": [
    "def simulateDataFrame(numberOfEdges=100*1000,numberOfNodes=10*1000):\n",
    "    return pd.DataFrame({'a':np.random.randint(0, high=numberOfNodes, size=numberOfEdges),\n",
    "                         'b':np.random.randint(0, high=numberOfNodes, size=numberOfEdges)})"
   ]
  },
  {
   "cell_type": "markdown",
   "id": "b7e35109-05a6-4295-8af3-a8cf4f43873a",
   "metadata": {},
   "source": [
    "# Test of duckpgq"
   ]
  },
  {
   "cell_type": "code",
   "execution_count": 3,
   "id": "c20e026a-056c-4586-8e9c-b244075af732",
   "metadata": {},
   "outputs": [],
   "source": [
    "numberOfEdges=40000\n",
    "numberOfNodes=80000"
   ]
  },
  {
   "cell_type": "code",
   "execution_count": 4,
   "id": "8bdc6868-413d-4586-9540-ab1b3748594b",
   "metadata": {},
   "outputs": [
    {
     "data": {
      "text/html": [
       "<div>\n",
       "<style scoped>\n",
       "    .dataframe tbody tr th:only-of-type {\n",
       "        vertical-align: middle;\n",
       "    }\n",
       "\n",
       "    .dataframe tbody tr th {\n",
       "        vertical-align: top;\n",
       "    }\n",
       "\n",
       "    .dataframe thead th {\n",
       "        text-align: right;\n",
       "    }\n",
       "</style>\n",
       "<table border=\"1\" class=\"dataframe\">\n",
       "  <thead>\n",
       "    <tr style=\"text-align: right;\">\n",
       "      <th></th>\n",
       "      <th>a</th>\n",
       "      <th>b</th>\n",
       "    </tr>\n",
       "  </thead>\n",
       "  <tbody>\n",
       "    <tr>\n",
       "      <th>0</th>\n",
       "      <td>38020</td>\n",
       "      <td>57299</td>\n",
       "    </tr>\n",
       "    <tr>\n",
       "      <th>1</th>\n",
       "      <td>1250</td>\n",
       "      <td>33407</td>\n",
       "    </tr>\n",
       "    <tr>\n",
       "      <th>2</th>\n",
       "      <td>49992</td>\n",
       "      <td>55488</td>\n",
       "    </tr>\n",
       "    <tr>\n",
       "      <th>3</th>\n",
       "      <td>68953</td>\n",
       "      <td>32832</td>\n",
       "    </tr>\n",
       "    <tr>\n",
       "      <th>4</th>\n",
       "      <td>64258</td>\n",
       "      <td>25499</td>\n",
       "    </tr>\n",
       "  </tbody>\n",
       "</table>\n",
       "</div>"
      ],
      "text/plain": [
       "       a      b\n",
       "0  38020  57299\n",
       "1   1250  33407\n",
       "2  49992  55488\n",
       "3  68953  32832\n",
       "4  64258  25499"
      ]
     },
     "execution_count": 4,
     "metadata": {},
     "output_type": "execute_result"
    }
   ],
   "source": [
    "pgq_edges_df=simulateDataFrame(numberOfEdges=numberOfEdges,numberOfNodes=numberOfNodes)\n",
    "pgq_edges_df.head()"
   ]
  },
  {
   "cell_type": "code",
   "execution_count": 5,
   "id": "f35b7274-a742-4a88-b8b8-3f149b688cab",
   "metadata": {},
   "outputs": [],
   "source": [
    "db=duckdb.connect(':memory:')"
   ]
  },
  {
   "cell_type": "code",
   "execution_count": 6,
   "id": "89ba22d3-d17b-4c7b-894b-f1fdefd468ff",
   "metadata": {},
   "outputs": [],
   "source": [
    "db.sql('''\n",
    "create table pgq_edges as\n",
    "select *\n",
    "from pgq_edges_df\n",
    "''')"
   ]
  },
  {
   "cell_type": "code",
   "execution_count": 7,
   "id": "6e2164ae-84a5-4517-ad16-f3e273e6931b",
   "metadata": {},
   "outputs": [],
   "source": [
    "db.sql('LOAD duckpgq;')"
   ]
  },
  {
   "cell_type": "code",
   "execution_count": 8,
   "id": "7aa63d7c-faeb-40c9-8e68-efd82c44fb1f",
   "metadata": {},
   "outputs": [],
   "source": [
    "db.sql('''\n",
    " create or replace table pgq_nodes as\n",
    " select distinct nodeId\n",
    " from (\n",
    "         select a as nodeId from pgq_edges\n",
    "         union\n",
    "         select b as nodeId from pgq_edges\n",
    "      );\n",
    "''')"
   ]
  },
  {
   "cell_type": "code",
   "execution_count": 9,
   "id": "7d906451-50ab-4330-b235-a3e5ee653f00",
   "metadata": {
    "scrolled": true
   },
   "outputs": [
    {
     "data": {
      "text/plain": [
       "┌─────────┐\n",
       "│ Success │\n",
       "│ boolean │\n",
       "├─────────┤\n",
       "│ 0 rows  │\n",
       "└─────────┘"
      ]
     },
     "execution_count": 9,
     "metadata": {},
     "output_type": "execute_result"
    }
   ],
   "source": [
    "db.sql('''\n",
    "CREATE PROPERTY GRAPH pgq_graph\n",
    "  VERTEX TABLES (\n",
    "    pgq_nodes\n",
    "  )\n",
    "  EDGE TABLES (\n",
    "    pgq_edges SOURCE KEY (a)      REFERENCES pgq_nodes (nodeId)\n",
    "              DESTINATION KEY (b) REFERENCES pgq_nodes (nodeId)\n",
    "    LABEL linkedWith\n",
    "  );\n",
    "''')"
   ]
  },
  {
   "cell_type": "code",
   "execution_count": 23,
   "id": "b75e7051-67ff-44c7-a345-c1540d06ee9a",
   "metadata": {},
   "outputs": [
    {
     "name": "stdout",
     "output_type": "stream",
     "text": [
      "CPU times: user 33.5 s, sys: 156 ms, total: 33.6 s\n",
      "Wall time: 33.4 s\n"
     ]
    }
   ],
   "source": [
    "%%time \n",
    "\n",
    "startTime=time()\n",
    "\n",
    "pgq_cc=db.sql('''\n",
    "SELECT * FROM weakly_connected_component(pgq_graph, pgq_nodes, linkedWith)\n",
    "''').to_df()\n",
    "\n",
    "pgqTime=time()-startTime"
   ]
  },
  {
   "cell_type": "code",
   "execution_count": 28,
   "id": "8974d994-5c1b-4988-b3ef-efc33e2f9f3e",
   "metadata": {},
   "outputs": [
    {
     "name": "stdout",
     "output_type": "stream",
     "text": [
      "CPU times: user 172 ms, sys: 13 ms, total: 185 ms\n",
      "Wall time: 190 ms\n"
     ]
    }
   ],
   "source": [
    "%%time \n",
    "\n",
    "startTime=time()\n",
    "\n",
    "yoba_cc=ccl(pgq_edges_df).getConnectedCompontents()\n",
    "\n",
    "yobaTime=time()-startTime"
   ]
  },
  {
   "cell_type": "markdown",
   "id": "bcc62766-68f0-46d1-bbd0-66111a8eb426",
   "metadata": {},
   "source": [
    "# Check that duckpgq and yoba methods lead to the same results"
   ]
  },
  {
   "cell_type": "code",
   "execution_count": 12,
   "id": "43a58f22-8598-4a08-b110-aa0d911fd533",
   "metadata": {},
   "outputs": [
    {
     "data": {
      "text/plain": [
       "┌─────────────┬──────────────────┐\n",
       "│ componentId │ ms_countOf_nodes │\n",
       "│    int64    │      int64       │\n",
       "├─────────────┼──────────────────┤\n",
       "│          11 │             2204 │\n",
       "│          18 │              501 │\n",
       "│         276 │              440 │\n",
       "│          16 │              332 │\n",
       "│          12 │              225 │\n",
       "│         450 │              219 │\n",
       "│         579 │              192 │\n",
       "│         123 │              189 │\n",
       "│          44 │              178 │\n",
       "│          13 │              171 │\n",
       "├─────────────┴──────────────────┤\n",
       "│ 10 rows              2 columns │\n",
       "└────────────────────────────────┘"
      ]
     },
     "execution_count": 12,
     "metadata": {},
     "output_type": "execute_result"
    }
   ],
   "source": [
    "duckdb.sql('''\n",
    "select componentId, count(distinct nodeId) as ms_countOf_nodes\n",
    "from pgq_cc\n",
    "group by 1\n",
    "order by 2 desc\n",
    "limit 10\n",
    "''')"
   ]
  },
  {
   "cell_type": "code",
   "execution_count": 13,
   "id": "0c0e5298-9d9a-4c27-bebb-24a784a81979",
   "metadata": {},
   "outputs": [
    {
     "data": {
      "text/plain": [
       "┌─────────────┬──────────────────┐\n",
       "│ componentId │ ms_countOf_nodes │\n",
       "│    int64    │      int64       │\n",
       "├─────────────┼──────────────────┤\n",
       "│       46545 │             2204 │\n",
       "│       24866 │              501 │\n",
       "│       22238 │              440 │\n",
       "│       11488 │              332 │\n",
       "│       23806 │              225 │\n",
       "│       33393 │              219 │\n",
       "│       12888 │              192 │\n",
       "│       49032 │              189 │\n",
       "│       40713 │              178 │\n",
       "│       38071 │              171 │\n",
       "├─────────────┴──────────────────┤\n",
       "│ 10 rows              2 columns │\n",
       "└────────────────────────────────┘"
      ]
     },
     "execution_count": 13,
     "metadata": {},
     "output_type": "execute_result"
    }
   ],
   "source": [
    "duckdb.sql('''\n",
    "select componentId, count(distinct nodeId) as ms_countOf_nodes\n",
    "from yoba_cc\n",
    "group by 1\n",
    "order by 2 desc\n",
    "limit 10\n",
    "''')"
   ]
  },
  {
   "cell_type": "code",
   "execution_count": 14,
   "id": "eb968394-3b06-4b86-a116-43787f18a942",
   "metadata": {},
   "outputs": [],
   "source": [
    "yoba_ccSizeDistribution=duckdb.sql('''\n",
    "select ms_countOf_nodes, count(*) as ms_countOf_components\n",
    "from (\n",
    "        select componentId, count(distinct nodeId) as ms_countOf_nodes\n",
    "        from yoba_cc\n",
    "        group by 1\n",
    "        order by 2 desc\n",
    "     )\n",
    "group by 1\n",
    "order by 1 desc\n",
    "''').to_df()"
   ]
  },
  {
   "cell_type": "code",
   "execution_count": 15,
   "id": "e7a41abe-52d7-42fe-9e64-5e9ad63d7c9d",
   "metadata": {},
   "outputs": [],
   "source": [
    "pgq_ccSizeDistribution=duckdb.sql('''\n",
    "select ms_countOf_nodes, count(*) as ms_countOf_components\n",
    "from (\n",
    "        select componentId, count(distinct nodeId) as ms_countOf_nodes\n",
    "        from pgq_cc\n",
    "        group by 1\n",
    "        order by 2 desc\n",
    "     )\n",
    "group by 1\n",
    "order by 1 desc\n",
    "''').to_df()"
   ]
  },
  {
   "cell_type": "code",
   "execution_count": 16,
   "id": "e4dfc717-8b1d-4c8a-8327-bafce64e98b5",
   "metadata": {},
   "outputs": [
    {
     "data": {
      "text/html": [
       "<div>\n",
       "<style scoped>\n",
       "    .dataframe tbody tr th:only-of-type {\n",
       "        vertical-align: middle;\n",
       "    }\n",
       "\n",
       "    .dataframe tbody tr th {\n",
       "        vertical-align: top;\n",
       "    }\n",
       "\n",
       "    .dataframe thead th {\n",
       "        text-align: right;\n",
       "    }\n",
       "</style>\n",
       "<table border=\"1\" class=\"dataframe\">\n",
       "  <thead>\n",
       "    <tr style=\"text-align: right;\">\n",
       "      <th></th>\n",
       "      <th>ms_countOf_nodes</th>\n",
       "      <th>ms_countOf_components</th>\n",
       "    </tr>\n",
       "  </thead>\n",
       "  <tbody>\n",
       "    <tr>\n",
       "      <th>0</th>\n",
       "      <td>2204</td>\n",
       "      <td>1</td>\n",
       "    </tr>\n",
       "    <tr>\n",
       "      <th>1</th>\n",
       "      <td>501</td>\n",
       "      <td>1</td>\n",
       "    </tr>\n",
       "    <tr>\n",
       "      <th>2</th>\n",
       "      <td>440</td>\n",
       "      <td>1</td>\n",
       "    </tr>\n",
       "    <tr>\n",
       "      <th>3</th>\n",
       "      <td>332</td>\n",
       "      <td>1</td>\n",
       "    </tr>\n",
       "    <tr>\n",
       "      <th>4</th>\n",
       "      <td>225</td>\n",
       "      <td>1</td>\n",
       "    </tr>\n",
       "  </tbody>\n",
       "</table>\n",
       "</div>"
      ],
      "text/plain": [
       "   ms_countOf_nodes  ms_countOf_components\n",
       "0              2204                      1\n",
       "1               501                      1\n",
       "2               440                      1\n",
       "3               332                      1\n",
       "4               225                      1"
      ]
     },
     "execution_count": 16,
     "metadata": {},
     "output_type": "execute_result"
    }
   ],
   "source": [
    "yoba_ccSizeDistribution.head()"
   ]
  },
  {
   "cell_type": "code",
   "execution_count": 17,
   "id": "3aecb3b6-3c2d-48e8-b946-436d406cf1a0",
   "metadata": {},
   "outputs": [
    {
     "data": {
      "text/html": [
       "<div>\n",
       "<style scoped>\n",
       "    .dataframe tbody tr th:only-of-type {\n",
       "        vertical-align: middle;\n",
       "    }\n",
       "\n",
       "    .dataframe tbody tr th {\n",
       "        vertical-align: top;\n",
       "    }\n",
       "\n",
       "    .dataframe thead th {\n",
       "        text-align: right;\n",
       "    }\n",
       "</style>\n",
       "<table border=\"1\" class=\"dataframe\">\n",
       "  <thead>\n",
       "    <tr style=\"text-align: right;\">\n",
       "      <th></th>\n",
       "      <th>ms_countOf_nodes</th>\n",
       "      <th>ms_countOf_components</th>\n",
       "    </tr>\n",
       "  </thead>\n",
       "  <tbody>\n",
       "    <tr>\n",
       "      <th>0</th>\n",
       "      <td>2204</td>\n",
       "      <td>1</td>\n",
       "    </tr>\n",
       "    <tr>\n",
       "      <th>1</th>\n",
       "      <td>501</td>\n",
       "      <td>1</td>\n",
       "    </tr>\n",
       "    <tr>\n",
       "      <th>2</th>\n",
       "      <td>440</td>\n",
       "      <td>1</td>\n",
       "    </tr>\n",
       "    <tr>\n",
       "      <th>3</th>\n",
       "      <td>332</td>\n",
       "      <td>1</td>\n",
       "    </tr>\n",
       "    <tr>\n",
       "      <th>4</th>\n",
       "      <td>225</td>\n",
       "      <td>1</td>\n",
       "    </tr>\n",
       "  </tbody>\n",
       "</table>\n",
       "</div>"
      ],
      "text/plain": [
       "   ms_countOf_nodes  ms_countOf_components\n",
       "0              2204                      1\n",
       "1               501                      1\n",
       "2               440                      1\n",
       "3               332                      1\n",
       "4               225                      1"
      ]
     },
     "execution_count": 17,
     "metadata": {},
     "output_type": "execute_result"
    }
   ],
   "source": [
    "pgq_ccSizeDistribution.head()"
   ]
  },
  {
   "cell_type": "code",
   "execution_count": 18,
   "id": "73eacd7e-67ea-42aa-bc92-a54ceb7154ee",
   "metadata": {},
   "outputs": [
    {
     "data": {
      "text/plain": [
       "True"
      ]
     },
     "execution_count": 18,
     "metadata": {},
     "output_type": "execute_result"
    }
   ],
   "source": [
    "pgq_ccSizeDistribution.equals(yoba_ccSizeDistribution)"
   ]
  },
  {
   "cell_type": "code",
   "execution_count": 19,
   "id": "b7aae51b-21d7-48e6-8ea2-069f122e8213",
   "metadata": {},
   "outputs": [
    {
     "data": {
      "text/plain": [
       "227.32582192367641"
      ]
     },
     "execution_count": 19,
     "metadata": {},
     "output_type": "execute_result"
    }
   ],
   "source": [
    "pgqTime/yobaTime"
   ]
  },
  {
   "cell_type": "code",
   "execution_count": null,
   "id": "da699bd2-4e8b-44ce-af5e-725359a58c02",
   "metadata": {},
   "outputs": [],
   "source": []
  }
 ],
 "metadata": {
  "kernelspec": {
   "display_name": "Python 3 (ipykernel)",
   "language": "python",
   "name": "python3"
  },
  "language_info": {
   "codemirror_mode": {
    "name": "ipython",
    "version": 3
   },
   "file_extension": ".py",
   "mimetype": "text/x-python",
   "name": "python",
   "nbconvert_exporter": "python",
   "pygments_lexer": "ipython3",
   "version": "3.13.1"
  }
 },
 "nbformat": 4,
 "nbformat_minor": 5
}
