{
 "cells": [
  {
   "cell_type": "markdown",
   "id": "b20963b1-b362-41c2-a7c7-865fc87a1ba8",
   "metadata": {},
   "source": [
    "# Compared with networkx\n",
    "\n",
    "Based on : https://github.com/cwida/duckpgq-extension/pull/137"
   ]
  },
  {
   "cell_type": "code",
   "execution_count": 1,
   "id": "60811a36-ff6c-4f19-be79-95d8dbdeb62f",
   "metadata": {},
   "outputs": [],
   "source": [
    "from connectedComponentsLabeling import connectedComponentsLabeler as ccl\n",
    "from time import time\n",
    "import pandas as pd\n",
    "import networkx as nx\n",
    "import numpy as np\n",
    "import duckdb"
   ]
  },
  {
   "cell_type": "code",
   "execution_count": 2,
   "id": "95dbb305-5762-44a0-8a21-08a4d2efebde",
   "metadata": {},
   "outputs": [],
   "source": [
    "def simulateDataFrame(numberOfEdges=100*1000,numberOfNodes=10*1000):\n",
    "    return pd.DataFrame({'a':np.random.randint(0, high=numberOfNodes, size=numberOfEdges),\n",
    "                         'b':np.random.randint(0, high=numberOfNodes, size=numberOfEdges)})"
   ]
  },
  {
   "cell_type": "code",
   "execution_count": 3,
   "id": "e2fea0a6-17e4-4291-bcf4-d1beb13de4dc",
   "metadata": {},
   "outputs": [],
   "source": [
    "numberOfEdges=4000000\n",
    "numberOfNodes=8000000"
   ]
  },
  {
   "cell_type": "code",
   "execution_count": 4,
   "id": "4f12766f-b0f1-41be-a412-17a67ea8f954",
   "metadata": {},
   "outputs": [
    {
     "data": {
      "text/html": [
       "<div>\n",
       "<style scoped>\n",
       "    .dataframe tbody tr th:only-of-type {\n",
       "        vertical-align: middle;\n",
       "    }\n",
       "\n",
       "    .dataframe tbody tr th {\n",
       "        vertical-align: top;\n",
       "    }\n",
       "\n",
       "    .dataframe thead th {\n",
       "        text-align: right;\n",
       "    }\n",
       "</style>\n",
       "<table border=\"1\" class=\"dataframe\">\n",
       "  <thead>\n",
       "    <tr style=\"text-align: right;\">\n",
       "      <th></th>\n",
       "      <th>a</th>\n",
       "      <th>b</th>\n",
       "    </tr>\n",
       "  </thead>\n",
       "  <tbody>\n",
       "    <tr>\n",
       "      <th>0</th>\n",
       "      <td>7122080</td>\n",
       "      <td>6839999</td>\n",
       "    </tr>\n",
       "    <tr>\n",
       "      <th>1</th>\n",
       "      <td>6478375</td>\n",
       "      <td>3583191</td>\n",
       "    </tr>\n",
       "    <tr>\n",
       "      <th>2</th>\n",
       "      <td>3930726</td>\n",
       "      <td>2642690</td>\n",
       "    </tr>\n",
       "    <tr>\n",
       "      <th>3</th>\n",
       "      <td>4882378</td>\n",
       "      <td>5194507</td>\n",
       "    </tr>\n",
       "    <tr>\n",
       "      <th>4</th>\n",
       "      <td>7399109</td>\n",
       "      <td>7786992</td>\n",
       "    </tr>\n",
       "  </tbody>\n",
       "</table>\n",
       "</div>"
      ],
      "text/plain": [
       "         a        b\n",
       "0  7122080  6839999\n",
       "1  6478375  3583191\n",
       "2  3930726  2642690\n",
       "3  4882378  5194507\n",
       "4  7399109  7786992"
      ]
     },
     "execution_count": 4,
     "metadata": {},
     "output_type": "execute_result"
    }
   ],
   "source": [
    "yoba=simulateDataFrame(numberOfEdges=numberOfEdges,numberOfNodes=numberOfNodes)\n",
    "yoba.head()"
   ]
  },
  {
   "cell_type": "code",
   "execution_count": 5,
   "id": "77572f04-0214-4862-ad57-e275e8d278ab",
   "metadata": {},
   "outputs": [
    {
     "name": "stdout",
     "output_type": "stream",
     "text": [
      "CPU times: user 23 s, sys: 1.02 s, total: 24 s\n",
      "Wall time: 24 s\n"
     ]
    }
   ],
   "source": [
    "%%time \n",
    "\n",
    "startTime=time()\n",
    "\n",
    "yoba_cc=ccl(yoba).getConnectedCompontents()\n",
    "\n",
    "yobaTime=time()-startTime"
   ]
  },
  {
   "cell_type": "code",
   "execution_count": 6,
   "id": "fe84c22e-4bb2-457f-81b1-d1380c4938ae",
   "metadata": {},
   "outputs": [
    {
     "data": {
      "text/html": [
       "<div>\n",
       "<style scoped>\n",
       "    .dataframe tbody tr th:only-of-type {\n",
       "        vertical-align: middle;\n",
       "    }\n",
       "\n",
       "    .dataframe tbody tr th {\n",
       "        vertical-align: top;\n",
       "    }\n",
       "\n",
       "    .dataframe thead th {\n",
       "        text-align: right;\n",
       "    }\n",
       "</style>\n",
       "<table border=\"1\" class=\"dataframe\">\n",
       "  <thead>\n",
       "    <tr style=\"text-align: right;\">\n",
       "      <th></th>\n",
       "      <th>nodeId</th>\n",
       "      <th>componentId</th>\n",
       "    </tr>\n",
       "  </thead>\n",
       "  <tbody>\n",
       "    <tr>\n",
       "      <th>0</th>\n",
       "      <td>0</td>\n",
       "      <td>4644612</td>\n",
       "    </tr>\n",
       "    <tr>\n",
       "      <th>1</th>\n",
       "      <td>1</td>\n",
       "      <td>1</td>\n",
       "    </tr>\n",
       "    <tr>\n",
       "      <th>2</th>\n",
       "      <td>3</td>\n",
       "      <td>715135</td>\n",
       "    </tr>\n",
       "    <tr>\n",
       "      <th>3</th>\n",
       "      <td>4</td>\n",
       "      <td>3</td>\n",
       "    </tr>\n",
       "    <tr>\n",
       "      <th>4</th>\n",
       "      <td>6</td>\n",
       "      <td>4150796</td>\n",
       "    </tr>\n",
       "  </tbody>\n",
       "</table>\n",
       "</div>"
      ],
      "text/plain": [
       "   nodeId  componentId\n",
       "0       0      4644612\n",
       "1       1            1\n",
       "2       3       715135\n",
       "3       4            3\n",
       "4       6      4150796"
      ]
     },
     "execution_count": 6,
     "metadata": {},
     "output_type": "execute_result"
    }
   ],
   "source": [
    "yoba_cc.head()"
   ]
  },
  {
   "cell_type": "code",
   "execution_count": 7,
   "id": "e073f96b-c490-4b41-a687-18776f56c0b2",
   "metadata": {},
   "outputs": [],
   "source": [
    "def calculate_cc(G: nx.Graph) -> pd.DataFrame:\n",
    "    # works on undirected graph\n",
    "    connected_components = [c for c in sorted(nx.connected_components(G), key=len, reverse=True)]\n",
    "    # Prepare lists to hold the IDs and their corresponding componentId\n",
    "    ids = []\n",
    "    component_ids = []\n",
    "\n",
    "    for component in connected_components:\n",
    "        # Determine the componentId as the minimum node ID in the component\n",
    "        component_id = min(component)\n",
    "\n",
    "        # Add each node in the component to the lists\n",
    "        for node in component:\n",
    "            ids.append(int(node))\n",
    "            component_ids.append(int(component_id))\n",
    "\n",
    "    # Create a DataFrame from the lists\n",
    "    wcc_df = pd.DataFrame({\n",
    "        'id': ids,\n",
    "        'componentId': component_ids\n",
    "    })\n",
    "\n",
    "    return wcc_df"
   ]
  },
  {
   "cell_type": "code",
   "execution_count": 8,
   "id": "30a07062-88ae-4baf-8d79-aa7105ea14b1",
   "metadata": {},
   "outputs": [],
   "source": [
    "G=nx.from_pandas_edgelist(yoba,source='a',target='b')"
   ]
  },
  {
   "cell_type": "code",
   "execution_count": 10,
   "id": "b7d67f17-797b-40a4-bd81-4fcd05e18194",
   "metadata": {},
   "outputs": [
    {
     "name": "stdout",
     "output_type": "stream",
     "text": [
      "CPU times: user 12.8 s, sys: 717 ms, total: 13.6 s\n",
      "Wall time: 13.5 s\n"
     ]
    }
   ],
   "source": [
    "%%time\n",
    "\n",
    "netX=calculate_cc(G)"
   ]
  },
  {
   "cell_type": "code",
   "execution_count": 11,
   "id": "c16b0e62-5a05-4bc5-9c8d-6924a982693a",
   "metadata": {},
   "outputs": [
    {
     "data": {
      "text/plain": [
       "┌─────────────────────────────┐\n",
       "│ count(DISTINCT componentID) │\n",
       "│            int64            │\n",
       "├─────────────────────────────┤\n",
       "│                     1058241 │\n",
       "└─────────────────────────────┘"
      ]
     },
     "execution_count": 11,
     "metadata": {},
     "output_type": "execute_result"
    }
   ],
   "source": [
    "duckdb.sql('select count(distinct componentID) from netX')"
   ]
  },
  {
   "cell_type": "code",
   "execution_count": 12,
   "id": "2de13fb1-74ba-4807-bf9e-44358b784e19",
   "metadata": {},
   "outputs": [
    {
     "data": {
      "text/plain": [
       "┌─────────────────────────────┐\n",
       "│ count(DISTINCT componentId) │\n",
       "│            int64            │\n",
       "├─────────────────────────────┤\n",
       "│                     1058241 │\n",
       "└─────────────────────────────┘"
      ]
     },
     "execution_count": 12,
     "metadata": {},
     "output_type": "execute_result"
    }
   ],
   "source": [
    "duckdb.sql('select count(distinct componentId) from yoba_cc')"
   ]
  },
  {
   "cell_type": "code",
   "execution_count": null,
   "id": "88631182-0c8f-446b-92fa-24fe9d12fd56",
   "metadata": {},
   "outputs": [],
   "source": []
  }
 ],
 "metadata": {
  "kernelspec": {
   "display_name": "Python 3 (ipykernel)",
   "language": "python",
   "name": "python3"
  },
  "language_info": {
   "codemirror_mode": {
    "name": "ipython",
    "version": 3
   },
   "file_extension": ".py",
   "mimetype": "text/x-python",
   "name": "python",
   "nbconvert_exporter": "python",
   "pygments_lexer": "ipython3",
   "version": "3.13.1"
  }
 },
 "nbformat": 4,
 "nbformat_minor": 5
}
