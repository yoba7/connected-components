{
 "cells": [
  {
   "cell_type": "markdown",
   "id": "4cbe2275-fd80-4a64-abfc-d6e7189b78ed",
   "metadata": {},
   "source": [
    "# Snap - Enron email network\n",
    "\n",
    "Test with a [snap dataset](https://snap.stanford.edu/data/).\n",
    "\n",
    "Tested with the [Enron email network](https://snap.stanford.edu/data/email-Enron.html)\n",
    "\n",
    "Characteristics of this graph:\n",
    "- Nodes: 36692\n",
    "- Edges: 183831\n",
    "- Nodes in largest WCC: 33696 (0.918)"
   ]
  },
  {
   "cell_type": "code",
   "execution_count": 1,
   "id": "db289ff8-d35d-4728-85f6-b23fe1a0072e",
   "metadata": {},
   "outputs": [],
   "source": [
    "import pandas as pd"
   ]
  },
  {
   "cell_type": "code",
   "execution_count": 2,
   "id": "06cce574-477c-4490-b1c6-1eaa8fe0ebcb",
   "metadata": {},
   "outputs": [
    {
     "data": {
      "text/html": [
       "<div>\n",
       "<style scoped>\n",
       "    .dataframe tbody tr th:only-of-type {\n",
       "        vertical-align: middle;\n",
       "    }\n",
       "\n",
       "    .dataframe tbody tr th {\n",
       "        vertical-align: top;\n",
       "    }\n",
       "\n",
       "    .dataframe thead th {\n",
       "        text-align: right;\n",
       "    }\n",
       "</style>\n",
       "<table border=\"1\" class=\"dataframe\">\n",
       "  <thead>\n",
       "    <tr style=\"text-align: right;\">\n",
       "      <th></th>\n",
       "      <th>a</th>\n",
       "      <th>b</th>\n",
       "    </tr>\n",
       "  </thead>\n",
       "  <tbody>\n",
       "    <tr>\n",
       "      <th>0</th>\n",
       "      <td>0</td>\n",
       "      <td>1</td>\n",
       "    </tr>\n",
       "    <tr>\n",
       "      <th>1</th>\n",
       "      <td>1</td>\n",
       "      <td>0</td>\n",
       "    </tr>\n",
       "    <tr>\n",
       "      <th>2</th>\n",
       "      <td>1</td>\n",
       "      <td>2</td>\n",
       "    </tr>\n",
       "    <tr>\n",
       "      <th>3</th>\n",
       "      <td>1</td>\n",
       "      <td>3</td>\n",
       "    </tr>\n",
       "    <tr>\n",
       "      <th>4</th>\n",
       "      <td>1</td>\n",
       "      <td>4</td>\n",
       "    </tr>\n",
       "  </tbody>\n",
       "</table>\n",
       "</div>"
      ],
      "text/plain": [
       "   a  b\n",
       "0  0  1\n",
       "1  1  0\n",
       "2  1  2\n",
       "3  1  3\n",
       "4  1  4"
      ]
     },
     "execution_count": 2,
     "metadata": {},
     "output_type": "execute_result"
    }
   ],
   "source": [
    "bm1=pd.read_csv('https://snap.stanford.edu/data/email-Enron.txt.gz',\n",
    "            skiprows=4,\n",
    "            header=None,\n",
    "            names=['a','b'],\n",
    "            #nrows=1000,\n",
    "            sep='\\t')\n",
    "bm1.head()"
   ]
  },
  {
   "cell_type": "code",
   "execution_count": 3,
   "id": "95dbb305-5762-44a0-8a21-08a4d2efebde",
   "metadata": {},
   "outputs": [
    {
     "data": {
      "text/plain": [
       "(367662, 2)"
      ]
     },
     "execution_count": 3,
     "metadata": {},
     "output_type": "execute_result"
    }
   ],
   "source": [
    "bm1.shape"
   ]
  },
  {
   "cell_type": "code",
   "execution_count": 4,
   "id": "60811a36-ff6c-4f19-be79-95d8dbdeb62f",
   "metadata": {},
   "outputs": [],
   "source": [
    "from connectedComponentsLabeling import connectedComponentsLabeler as ccl\n",
    "from time import time\n",
    "import pandas as pd\n",
    "import numpy as np\n",
    "import duckdb"
   ]
  },
  {
   "cell_type": "code",
   "execution_count": 5,
   "id": "77572f04-0214-4862-ad57-e275e8d278ab",
   "metadata": {},
   "outputs": [
    {
     "name": "stdout",
     "output_type": "stream",
     "text": [
      "CPU times: user 1.2 s, sys: 12.7 ms, total: 1.21 s\n",
      "Wall time: 1.21 s\n"
     ]
    }
   ],
   "source": [
    "%%time \n",
    "\n",
    "startTime=time()\n",
    "\n",
    "yoba_cc=ccl(bm1).getConnectedCompontents()\n",
    "\n",
    "yobaTime=time()-startTime"
   ]
  },
  {
   "cell_type": "code",
   "execution_count": 6,
   "id": "fe84c22e-4bb2-457f-81b1-d1380c4938ae",
   "metadata": {},
   "outputs": [
    {
     "data": {
      "text/html": [
       "<div>\n",
       "<style scoped>\n",
       "    .dataframe tbody tr th:only-of-type {\n",
       "        vertical-align: middle;\n",
       "    }\n",
       "\n",
       "    .dataframe tbody tr th {\n",
       "        vertical-align: top;\n",
       "    }\n",
       "\n",
       "    .dataframe thead th {\n",
       "        text-align: right;\n",
       "    }\n",
       "</style>\n",
       "<table border=\"1\" class=\"dataframe\">\n",
       "  <thead>\n",
       "    <tr style=\"text-align: right;\">\n",
       "      <th></th>\n",
       "      <th>nodeId</th>\n",
       "      <th>componentId</th>\n",
       "    </tr>\n",
       "  </thead>\n",
       "  <tbody>\n",
       "    <tr>\n",
       "      <th>0</th>\n",
       "      <td>0</td>\n",
       "      <td>36624</td>\n",
       "    </tr>\n",
       "    <tr>\n",
       "      <th>1</th>\n",
       "      <td>1</td>\n",
       "      <td>36624</td>\n",
       "    </tr>\n",
       "    <tr>\n",
       "      <th>2</th>\n",
       "      <td>2</td>\n",
       "      <td>36624</td>\n",
       "    </tr>\n",
       "    <tr>\n",
       "      <th>3</th>\n",
       "      <td>3</td>\n",
       "      <td>36624</td>\n",
       "    </tr>\n",
       "    <tr>\n",
       "      <th>4</th>\n",
       "      <td>4</td>\n",
       "      <td>36624</td>\n",
       "    </tr>\n",
       "  </tbody>\n",
       "</table>\n",
       "</div>"
      ],
      "text/plain": [
       "   nodeId  componentId\n",
       "0       0        36624\n",
       "1       1        36624\n",
       "2       2        36624\n",
       "3       3        36624\n",
       "4       4        36624"
      ]
     },
     "execution_count": 6,
     "metadata": {},
     "output_type": "execute_result"
    }
   ],
   "source": [
    "yoba_cc.head()"
   ]
  },
  {
   "cell_type": "code",
   "execution_count": 7,
   "id": "418677eb-b404-44ce-9e52-df5ef9d968d1",
   "metadata": {
    "scrolled": true
   },
   "outputs": [
    {
     "name": "stdout",
     "output_type": "stream",
     "text": [
      "CPU times: user 1.25 ms, sys: 952 μs, total: 2.21 ms\n",
      "Wall time: 1.88 ms\n"
     ]
    },
    {
     "data": {
      "text/plain": [
       "┌─────────────────────────────┐\n",
       "│ count(DISTINCT componentId) │\n",
       "│            int64            │\n",
       "├─────────────────────────────┤\n",
       "│                        1065 │\n",
       "└─────────────────────────────┘"
      ]
     },
     "execution_count": 7,
     "metadata": {},
     "output_type": "execute_result"
    }
   ],
   "source": [
    "%%time \n",
    "\n",
    "duckdb.sql('''\n",
    "select count(distinct componentId)\n",
    "from yoba_cc\n",
    "''')"
   ]
  },
  {
   "cell_type": "code",
   "execution_count": 9,
   "id": "8775f030-7542-486c-862f-2d12b2e1394d",
   "metadata": {},
   "outputs": [
    {
     "name": "stdout",
     "output_type": "stream",
     "text": [
      "CPU times: user 2.93 ms, sys: 0 ns, total: 2.93 ms\n",
      "Wall time: 1.96 ms\n"
     ]
    },
    {
     "data": {
      "text/plain": [
       "┌─────────────┬──────────────────┐\n",
       "│ componentId │ ms_countOf_nodes │\n",
       "│   uint32    │      int64       │\n",
       "├─────────────┼──────────────────┤\n",
       "│       36624 │            33696 │\n",
       "│       30290 │               20 │\n",
       "│       34603 │               16 │\n",
       "│       36147 │               14 │\n",
       "│       29769 │               13 │\n",
       "└─────────────┴──────────────────┘"
      ]
     },
     "execution_count": 9,
     "metadata": {},
     "output_type": "execute_result"
    }
   ],
   "source": [
    "%%time \n",
    "\n",
    "duckdb.sql('''\n",
    "select componentId, count(nodeId) as ms_countOf_nodes\n",
    "from yoba_cc\n",
    "group by 1\n",
    "order by 2 desc\n",
    "limit 5\n",
    "''')"
   ]
  }
 ],
 "metadata": {
  "kernelspec": {
   "display_name": "Python 3 (ipykernel)",
   "language": "python",
   "name": "python3"
  },
  "language_info": {
   "codemirror_mode": {
    "name": "ipython",
    "version": 3
   },
   "file_extension": ".py",
   "mimetype": "text/x-python",
   "name": "python",
   "nbconvert_exporter": "python",
   "pygments_lexer": "ipython3",
   "version": "3.12.8"
  }
 },
 "nbformat": 4,
 "nbformat_minor": 5
}
